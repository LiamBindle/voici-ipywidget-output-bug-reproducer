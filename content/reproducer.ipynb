{
 "cells": [
  {
   "cell_type": "code",
   "execution_count": null,
   "id": "d64555ef-9292-480f-b44d-1fc7993b873e",
   "metadata": {},
   "outputs": [],
   "source": [
    "import ipywidgets\n",
    "from datetime import datetime"
   ]
  },
  {
   "cell_type": "code",
   "execution_count": null,
   "id": "9201d3ee-f48a-47b4-8e26-53dcdaa663cf",
   "metadata": {},
   "outputs": [],
   "source": [
    "output = ipywidgets.Output()\n",
    "button = ipywidgets.Button(description='Click me')\n",
    "\n",
    "display(button)\n",
    "display(output)\n",
    "\n",
    "def on_click(*args):\n",
    "    output.clear_output()\n",
    "    \n",
    "    with output:\n",
    "        print(datetime.now().isoformat())\n",
    "\n",
    "button.on_click(on_click)\n",
    "    "
   ]
  }
 ],
 "metadata": {
  "kernelspec": {
   "display_name": "Python 3 (ipykernel)",
   "language": "python",
   "name": "python3"
  },
  "language_info": {
   "codemirror_mode": {
    "name": "ipython",
    "version": 3
   },
   "file_extension": ".py",
   "mimetype": "text/x-python",
   "name": "python",
   "nbconvert_exporter": "python",
   "pygments_lexer": "ipython3",
   "version": "3.11.9"
  }
 },
 "nbformat": 4,
 "nbformat_minor": 5
}
